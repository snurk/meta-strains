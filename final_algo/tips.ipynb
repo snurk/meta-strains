{
 "cells": [
  {
   "cell_type": "code",
   "execution_count": 21,
   "metadata": {
    "collapsed": true
   },
   "outputs": [],
   "source": [
    "import networkx as nx"
   ]
  },
  {
   "cell_type": "code",
   "execution_count": 22,
   "metadata": {
    "collapsed": true
   },
   "outputs": [],
   "source": []
  },
  {
   "cell_type": "code",
   "execution_count": 22,
   "metadata": {
    "collapsed": true
   },
   "outputs": [],
   "source": [
    "def to_my_int(node_name):\n",
    "    node_name = node_name[:-1]\n",
    "    node_name = \"\".join(node_name.split('_'))\n",
    "    node_name = int(node_name)\n",
    "    return node_name"
   ]
  },
  {
   "cell_type": "code",
   "execution_count": 23,
   "metadata": {
    "collapsed": true
   },
   "outputs": [],
   "source": [
    "def print_nodes(nodes_list):\n",
    "    print(','.join([str(node) for node in nodes_list]))"
   ]
  },
  {
   "cell_type": "code",
   "execution_count": 24,
   "metadata": {
    "collapsed": true
   },
   "outputs": [],
   "source": [
    "def to_single_format(nodes_list):\n",
    "    return set([int(node[:-1]) for node in nodes_list])\n",
    "\n",
    "def to_double_format(nodes_list):\n",
    "    nodes_1 = [str(node) + \"+\" for node in nodes_list]\n",
    "    nodes_2 = [str(node) + \"-\" for node in nodes_list]\n",
    "    return nodes_1 + nodes_2"
   ]
  },
  {
   "cell_type": "code",
   "execution_count": 25,
   "metadata": {
    "collapsed": true
   },
   "outputs": [],
   "source": [
    "def rev(node_name):\n",
    "    direction = node_name[-1]\n",
    "    if direction == \"-\":\n",
    "        rev_direction = \"+\"\n",
    "    else:\n",
    "        rev_direction = \"-\"\n",
    "    return node_name[:-1] + rev_direction"
   ]
  },
  {
   "cell_type": "markdown",
   "metadata": {},
   "source": [
    "# Считываем граф\n",
    "\n",
    "Oставляем только большую компоненту связности"
   ]
  },
  {
   "cell_type": "code",
   "execution_count": 75,
   "metadata": {},
   "outputs": [
    {
     "name": "stdout",
     "output_type": "stream",
     "text": [
      "Number of components: 811\n"
     ]
    }
   ],
   "source": [
    "G = nx.DiGraph()\n",
    "\n",
    "with open(\"/home/margarita/AU/meta_strains_project/final_algo/data/g5_r1/prelim_graph.gfa\") as f:\n",
    "    for line in f:\n",
    "        line = line.split()\n",
    "        line_type = line[0]\n",
    "        \n",
    "        # S 238024 ACCAATTAT KC:i:37210\n",
    "        if line_type == \"S\":\n",
    "            v_name = line[1]\n",
    "            v_length = len(line[2])\n",
    "            G.add_node(v_name + \"+\", length=v_length)\n",
    "            G.add_node(v_name + \"-\", length=v_length)\n",
    "        \n",
    "        # L 238322 + 19590 - 55M\n",
    "        if line_type == \"L\":\n",
    "            v1 = line[1] + line[2]\n",
    "            v2 = line[3] + line[4]\n",
    "            G.add_edge(v1, v2)\n",
    "            G.add_edge(rev(v2), rev(v1))\n",
    "            \n",
    "print('Number of components:', nx.number_weakly_connected_components(G))      \n",
    "            \n",
    "# remain only largest component\n",
    "new_G = nx.DiGraph()\n",
    "for g in nx.weakly_connected_component_subgraphs(G):\n",
    "    if new_G.number_of_nodes() < g.number_of_nodes():\n",
    "        new_G = g.copy()\n",
    "G = new_G.copy()"
   ]
  },
  {
   "cell_type": "code",
   "execution_count": 76,
   "metadata": {},
   "outputs": [
    {
     "name": "stdout",
     "output_type": "stream",
     "text": [
      "7611649,7611649,6079470,7618517,6079470,7618517\n"
     ]
    }
   ],
   "source": [
    "self_loops = []\n",
    "for node in G.nodes:\n",
    "    if node in list(nx.all_neighbors(G, node)):\n",
    "        self_loops.append(node)\n",
    "        \n",
    "print_nodes([node[:-1] for node in self_loops])"
   ]
  },
  {
   "cell_type": "code",
   "execution_count": 77,
   "metadata": {
    "scrolled": false
   },
   "outputs": [
    {
     "name": "stdout",
     "output_type": "stream",
     "text": [
      "570052+,699452-,428238-,7472799-,6339981+,7631847-,7489641-,1832832-,7496465-,6251249-,6276775+,7632445-,6337135+,21148+,1770028-,715646-,25082+,25080+,1092978-,6966935-,6247389+,6668757+,1736092-,6376865+,1821908-,6633785+,1295828+,759360+,1725264+,1106344-,6780089-,6813761-,124778+,7611569-,7616117-,759362+,124776+\n"
     ]
    }
   ],
   "source": [
    "deleted_tips = []\n",
    "tips = [node for node in G.nodes if (G.in_degree(node) == 0 \n",
    "                                     and nx.get_node_attributes(G,'length')[node] <= 500)]\n",
    "\n",
    "deleted_tips.extend(tips)\n",
    "\n",
    "while len(tips) > 0:\n",
    "    G.remove_nodes_from(tips)\n",
    "    \n",
    "    tips = [node for node in G.nodes if (G.in_degree(node) == 0 \n",
    "                                         and nx.get_node_attributes(G,'length')[node] <= 500)]\n",
    "    deleted_tips.extend(tips)\n",
    "    \n",
    "deleted_tips = set([node for node in deleted_tips])\n",
    "print_nodes([node for node in deleted_tips])"
   ]
  },
  {
   "cell_type": "code",
   "execution_count": null,
   "metadata": {},
   "outputs": [],
   "source": []
  }
 ],
 "metadata": {
  "kernelspec": {
   "display_name": "Python 3",
   "language": "python",
   "name": "python3"
  },
  "language_info": {
   "codemirror_mode": {
    "name": "ipython",
    "version": 3
   },
   "file_extension": ".py",
   "mimetype": "text/x-python",
   "name": "python",
   "nbconvert_exporter": "python",
   "pygments_lexer": "ipython3",
   "version": "3.6.1"
  }
 },
 "nbformat": 4,
 "nbformat_minor": 2
}
