{
 "cells": [
  {
   "cell_type": "code",
   "execution_count": 1,
   "metadata": {
    "collapsed": true
   },
   "outputs": [],
   "source": [
    "import pandas as pd\n",
    "import numpy as np\n",
    "\n",
    "from collections import Counter\n",
    "from itertools import permutations\n",
    "\n",
    "import networkx as nx\n",
    "\n",
    "import os"
   ]
  },
  {
   "cell_type": "code",
   "execution_count": 2,
   "metadata": {
    "collapsed": true
   },
   "outputs": [],
   "source": [
    "def print_edges(edges):\n",
    "    print(','.join([str(e) for e in edges]))"
   ]
  },
  {
   "cell_type": "markdown",
   "metadata": {},
   "source": [
    "# Считываем граф\n",
    "\n",
    "Oставляем только большую компоненту связности"
   ]
  },
  {
   "cell_type": "code",
   "execution_count": 3,
   "metadata": {},
   "outputs": [
    {
     "name": "stdout",
     "output_type": "stream",
     "text": [
      "Number of components: 11\n",
      "3532\n",
      "1\n",
      "1\n",
      "1\n",
      "1\n",
      "1\n",
      "1\n",
      "1\n",
      "1\n",
      "1\n",
      "1\n"
     ]
    }
   ],
   "source": [
    "G = nx.DiGraph()\n",
    "\n",
    "with open(\"assembly/K127/prelim_graph.gfa\") as f:\n",
    "    for line in f:\n",
    "        line = line.split()\n",
    "        line_type = line[0]\n",
    "        \n",
    "        # S 238024 ACCAATTAT KC:i:37210\n",
    "        if line_type == \"S\":\n",
    "            v_name = int(line[1])\n",
    "            v_length = len(line[2])\n",
    "            G.add_node(v_name, length=v_length)\n",
    "        \n",
    "        # L 238322 + 19590 - 55M\n",
    "        if line_type == \"L\":\n",
    "            v1 = int(line[1])\n",
    "            v2 = int(line[3])\n",
    "            G.add_edge(v1, v2)\n",
    "            \n",
    "print('Number of components:', nx.number_weakly_connected_components(G))      \n",
    "            \n",
    "# remain only largest component\n",
    "new_G = nx.DiGraph()\n",
    "for g in nx.weakly_connected_component_subgraphs(G):\n",
    "    print(g.number_of_nodes())\n",
    "    if new_G.number_of_nodes() < g.number_of_nodes():\n",
    "        new_G = g.copy()\n",
    "G = new_G.copy()"
   ]
  },
  {
   "cell_type": "markdown",
   "metadata": {},
   "source": [
    "# Табличка с референсами\n",
    "\n",
    "Считываем файл ответа, как он есть"
   ]
  },
  {
   "cell_type": "code",
   "execution_count": 4,
   "metadata": {},
   "outputs": [
    {
     "data": {
      "text/html": [
       "<div>\n",
       "<style>\n",
       "    .dataframe thead tr:only-child th {\n",
       "        text-align: right;\n",
       "    }\n",
       "\n",
       "    .dataframe thead th {\n",
       "        text-align: left;\n",
       "    }\n",
       "\n",
       "    .dataframe tbody tr th {\n",
       "        vertical-align: top;\n",
       "    }\n",
       "</style>\n",
       "<table border=\"1\" class=\"dataframe\">\n",
       "  <thead>\n",
       "    <tr style=\"text-align: right;\">\n",
       "      <th></th>\n",
       "      <th>strains</th>\n",
       "    </tr>\n",
       "    <tr>\n",
       "      <th>e_id</th>\n",
       "      <th></th>\n",
       "    </tr>\n",
       "  </thead>\n",
       "  <tbody>\n",
       "    <tr>\n",
       "      <th>4575684</th>\n",
       "      <td>SE11_1\\tHS_1\\tH7_1\\tO104_1</td>\n",
       "    </tr>\n",
       "    <tr>\n",
       "      <th>4558554</th>\n",
       "      <td>H7_1\\tH7_1\\tH7_1\\tH7_1\\tO104_1\\tO104_1</td>\n",
       "    </tr>\n",
       "    <tr>\n",
       "      <th>4412196</th>\n",
       "      <td>H7_1\\tO104_1</td>\n",
       "    </tr>\n",
       "    <tr>\n",
       "      <th>4181032</th>\n",
       "      <td>H7_1</td>\n",
       "    </tr>\n",
       "    <tr>\n",
       "      <th>4491448</th>\n",
       "      <td>SE11_1\\tHS_1\\tO104_1</td>\n",
       "    </tr>\n",
       "  </tbody>\n",
       "</table>\n",
       "</div>"
      ],
      "text/plain": [
       "                                        strains\n",
       "e_id                                           \n",
       "4575684              SE11_1\\tHS_1\\tH7_1\\tO104_1\n",
       "4558554  H7_1\\tH7_1\\tH7_1\\tH7_1\\tO104_1\\tO104_1\n",
       "4412196                            H7_1\\tO104_1\n",
       "4181032                                    H7_1\n",
       "4491448                    SE11_1\\tHS_1\\tO104_1"
      ]
     },
     "execution_count": 4,
     "metadata": {},
     "output_type": "execute_result"
    }
   ],
   "source": [
    "df_ref = pd.read_csv(\"refs/refs_edges.txt\", header=None, names=[\"e\"])\n",
    "\n",
    "df_ref = df_ref[\"e\"].str.split('\\t', 1, expand=True)\n",
    "df_ref.columns = [\"e_id\", \"strains\"]\n",
    "df_ref = df_ref.set_index(\"e_id\")\n",
    "df_ref.index = df_ref.index.astype(\"int\")\n",
    "df_ref.head()"
   ]
  },
  {
   "cell_type": "markdown",
   "metadata": {},
   "source": [
    "Оставляем только ребра из большой компоненты:"
   ]
  },
  {
   "cell_type": "code",
   "execution_count": 5,
   "metadata": {
    "collapsed": true
   },
   "outputs": [],
   "source": [
    "df_ref = df_ref.loc[list(G.nodes)]"
   ]
  },
  {
   "cell_type": "markdown",
   "metadata": {},
   "source": [
    "Выводим рёбра, которые никому не принадлежат, на экран, и выкидываем их из таблицы:"
   ]
  },
  {
   "cell_type": "code",
   "execution_count": 6,
   "metadata": {},
   "outputs": [
    {
     "name": "stdout",
     "output_type": "stream",
     "text": [
      "0 edges are Nobody \n",
      "\n",
      "\n"
     ]
    }
   ],
   "source": [
    "nobody_edges = df_ref[df_ref[\"strains\"].isnull()].index\n",
    "print(\"{n} edges are Nobody\".format(n=len(nobody_edges)), '\\n')\n",
    "print_edges(nobody_edges)\n",
    "\n",
    "df_ref = df_ref.loc[set(df_ref.index) - set(nobody_edges)]"
   ]
  },
  {
   "cell_type": "markdown",
   "metadata": {},
   "source": [
    "Сплитим список референсов:"
   ]
  },
  {
   "cell_type": "code",
   "execution_count": 7,
   "metadata": {},
   "outputs": [
    {
     "data": {
      "text/html": [
       "<div>\n",
       "<style>\n",
       "    .dataframe thead tr:only-child th {\n",
       "        text-align: right;\n",
       "    }\n",
       "\n",
       "    .dataframe thead th {\n",
       "        text-align: left;\n",
       "    }\n",
       "\n",
       "    .dataframe tbody tr th {\n",
       "        vertical-align: top;\n",
       "    }\n",
       "</style>\n",
       "<table border=\"1\" class=\"dataframe\">\n",
       "  <thead>\n",
       "    <tr style=\"text-align: right;\">\n",
       "      <th></th>\n",
       "      <th>strains</th>\n",
       "    </tr>\n",
       "    <tr>\n",
       "      <th>e_id</th>\n",
       "      <th></th>\n",
       "    </tr>\n",
       "  </thead>\n",
       "  <tbody>\n",
       "    <tr>\n",
       "      <th>4571136</th>\n",
       "      <td>{'SE11': 1, 'HS': 1, 'H7': 1, 'O104': 1}</td>\n",
       "    </tr>\n",
       "    <tr>\n",
       "      <th>4554754</th>\n",
       "      <td>{'SE11': 1, 'HS': 1, 'O104': 1}</td>\n",
       "    </tr>\n",
       "    <tr>\n",
       "      <th>4177934</th>\n",
       "      <td>{'H7': 1}</td>\n",
       "    </tr>\n",
       "    <tr>\n",
       "      <th>3997720</th>\n",
       "      <td>{'H7': 1}</td>\n",
       "    </tr>\n",
       "    <tr>\n",
       "      <th>4177948</th>\n",
       "      <td>{'HS': 1}</td>\n",
       "    </tr>\n",
       "  </tbody>\n",
       "</table>\n",
       "</div>"
      ],
      "text/plain": [
       "                                          strains\n",
       "e_id                                             \n",
       "4571136  {'SE11': 1, 'HS': 1, 'H7': 1, 'O104': 1}\n",
       "4554754           {'SE11': 1, 'HS': 1, 'O104': 1}\n",
       "4177934                                 {'H7': 1}\n",
       "3997720                                 {'H7': 1}\n",
       "4177948                                 {'HS': 1}"
      ]
     },
     "execution_count": 7,
     "metadata": {},
     "output_type": "execute_result"
    }
   ],
   "source": [
    "df_ref[\"strains\"] = df_ref[\"strains\"].str.split('\\t')\n",
    "df_ref[\"strains\"] = df_ref[\"strains\"].apply(lambda x: [s.rpartition('_')[0] for s in x])\n",
    "df_ref[\"strains\"] = df_ref[\"strains\"].apply(Counter)\n",
    "df_ref.head()"
   ]
  },
  {
   "cell_type": "markdown",
   "metadata": {},
   "source": [
    "Считаем копийность каждого ребра:"
   ]
  },
  {
   "cell_type": "code",
   "execution_count": 8,
   "metadata": {},
   "outputs": [
    {
     "data": {
      "text/html": [
       "<div>\n",
       "<style>\n",
       "    .dataframe thead tr:only-child th {\n",
       "        text-align: right;\n",
       "    }\n",
       "\n",
       "    .dataframe thead th {\n",
       "        text-align: left;\n",
       "    }\n",
       "\n",
       "    .dataframe tbody tr th {\n",
       "        vertical-align: top;\n",
       "    }\n",
       "</style>\n",
       "<table border=\"1\" class=\"dataframe\">\n",
       "  <thead>\n",
       "    <tr style=\"text-align: right;\">\n",
       "      <th></th>\n",
       "      <th>strains</th>\n",
       "      <th>single_copy</th>\n",
       "    </tr>\n",
       "    <tr>\n",
       "      <th>e_id</th>\n",
       "      <th></th>\n",
       "      <th></th>\n",
       "    </tr>\n",
       "  </thead>\n",
       "  <tbody>\n",
       "    <tr>\n",
       "      <th>4571136</th>\n",
       "      <td>{'SE11': 1, 'HS': 1, 'H7': 1, 'O104': 1}</td>\n",
       "      <td>True</td>\n",
       "    </tr>\n",
       "    <tr>\n",
       "      <th>4554754</th>\n",
       "      <td>{'SE11': 1, 'HS': 1, 'O104': 1}</td>\n",
       "      <td>True</td>\n",
       "    </tr>\n",
       "    <tr>\n",
       "      <th>4177934</th>\n",
       "      <td>{'H7': 1}</td>\n",
       "      <td>True</td>\n",
       "    </tr>\n",
       "    <tr>\n",
       "      <th>3997720</th>\n",
       "      <td>{'H7': 1}</td>\n",
       "      <td>True</td>\n",
       "    </tr>\n",
       "    <tr>\n",
       "      <th>4177948</th>\n",
       "      <td>{'HS': 1}</td>\n",
       "      <td>True</td>\n",
       "    </tr>\n",
       "  </tbody>\n",
       "</table>\n",
       "</div>"
      ],
      "text/plain": [
       "                                          strains  single_copy\n",
       "e_id                                                          \n",
       "4571136  {'SE11': 1, 'HS': 1, 'H7': 1, 'O104': 1}         True\n",
       "4554754           {'SE11': 1, 'HS': 1, 'O104': 1}         True\n",
       "4177934                                 {'H7': 1}         True\n",
       "3997720                                 {'H7': 1}         True\n",
       "4177948                                 {'HS': 1}         True"
      ]
     },
     "execution_count": 8,
     "metadata": {},
     "output_type": "execute_result"
    }
   ],
   "source": [
    "df_ref[\"single_copy\"] = df_ref[\"strains\"].apply(lambda x: x.most_common(1)[0][1] == 1)\n",
    "df_ref.head()"
   ]
  },
  {
   "cell_type": "markdown",
   "metadata": {},
   "source": [
    "Считываем длину рёбер:"
   ]
  },
  {
   "cell_type": "code",
   "execution_count": 9,
   "metadata": {},
   "outputs": [
    {
     "data": {
      "text/html": [
       "<div>\n",
       "<style>\n",
       "    .dataframe thead tr:only-child th {\n",
       "        text-align: right;\n",
       "    }\n",
       "\n",
       "    .dataframe thead th {\n",
       "        text-align: left;\n",
       "    }\n",
       "\n",
       "    .dataframe tbody tr th {\n",
       "        vertical-align: top;\n",
       "    }\n",
       "</style>\n",
       "<table border=\"1\" class=\"dataframe\">\n",
       "  <thead>\n",
       "    <tr style=\"text-align: right;\">\n",
       "      <th></th>\n",
       "      <th>strains</th>\n",
       "      <th>single_copy</th>\n",
       "      <th>length</th>\n",
       "    </tr>\n",
       "  </thead>\n",
       "  <tbody>\n",
       "    <tr>\n",
       "      <th>4571136</th>\n",
       "      <td>{'SE11': 1, 'HS': 1, 'H7': 1, 'O104': 1}</td>\n",
       "      <td>True</td>\n",
       "      <td>7587</td>\n",
       "    </tr>\n",
       "    <tr>\n",
       "      <th>4554754</th>\n",
       "      <td>{'SE11': 1, 'HS': 1, 'O104': 1}</td>\n",
       "      <td>True</td>\n",
       "      <td>1230</td>\n",
       "    </tr>\n",
       "    <tr>\n",
       "      <th>4177934</th>\n",
       "      <td>{'H7': 1}</td>\n",
       "      <td>True</td>\n",
       "      <td>421</td>\n",
       "    </tr>\n",
       "    <tr>\n",
       "      <th>3997720</th>\n",
       "      <td>{'H7': 1}</td>\n",
       "      <td>True</td>\n",
       "      <td>436</td>\n",
       "    </tr>\n",
       "    <tr>\n",
       "      <th>4177948</th>\n",
       "      <td>{'HS': 1}</td>\n",
       "      <td>True</td>\n",
       "      <td>516</td>\n",
       "    </tr>\n",
       "  </tbody>\n",
       "</table>\n",
       "</div>"
      ],
      "text/plain": [
       "                                          strains  single_copy  length\n",
       "4571136  {'SE11': 1, 'HS': 1, 'H7': 1, 'O104': 1}         True    7587\n",
       "4554754           {'SE11': 1, 'HS': 1, 'O104': 1}         True    1230\n",
       "4177934                                 {'H7': 1}         True     421\n",
       "3997720                                 {'H7': 1}         True     436\n",
       "4177948                                 {'HS': 1}         True     516"
      ]
     },
     "execution_count": 9,
     "metadata": {},
     "output_type": "execute_result"
    }
   ],
   "source": [
    "df_length = pd.read_csv(\"edges_lengths.tsv\", sep='\\t', header=None, names=[\"length\"])\n",
    "df_length = df_length.astype(\"int\")\n",
    "\n",
    "df_ref = df_ref.join(df_length, how='inner')\n",
    "df_ref.head()"
   ]
  },
  {
   "cell_type": "markdown",
   "metadata": {
    "collapsed": true
   },
   "source": [
    "# Считываем профили"
   ]
  },
  {
   "cell_type": "code",
   "execution_count": 10,
   "metadata": {},
   "outputs": [
    {
     "data": {
      "text/html": [
       "<div>\n",
       "<style>\n",
       "    .dataframe thead tr:only-child th {\n",
       "        text-align: right;\n",
       "    }\n",
       "\n",
       "    .dataframe thead th {\n",
       "        text-align: left;\n",
       "    }\n",
       "\n",
       "    .dataframe tbody tr th {\n",
       "        vertical-align: top;\n",
       "    }\n",
       "</style>\n",
       "<table border=\"1\" class=\"dataframe\">\n",
       "  <thead>\n",
       "    <tr style=\"text-align: right;\">\n",
       "      <th></th>\n",
       "      <th>1</th>\n",
       "      <th>2</th>\n",
       "      <th>3</th>\n",
       "      <th>4</th>\n",
       "      <th>5</th>\n",
       "      <th>6</th>\n",
       "      <th>7</th>\n",
       "      <th>8</th>\n",
       "      <th>9</th>\n",
       "      <th>10</th>\n",
       "    </tr>\n",
       "    <tr>\n",
       "      <th>0</th>\n",
       "      <th></th>\n",
       "      <th></th>\n",
       "      <th></th>\n",
       "      <th></th>\n",
       "      <th></th>\n",
       "      <th></th>\n",
       "      <th></th>\n",
       "      <th></th>\n",
       "      <th></th>\n",
       "      <th></th>\n",
       "    </tr>\n",
       "  </thead>\n",
       "  <tbody>\n",
       "    <tr>\n",
       "      <th>SE11</th>\n",
       "      <td>0.19</td>\n",
       "      <td>0.23</td>\n",
       "      <td>0.43</td>\n",
       "      <td>0.93</td>\n",
       "      <td>0.82</td>\n",
       "      <td>0.57</td>\n",
       "      <td>0.89</td>\n",
       "      <td>0.64</td>\n",
       "      <td>0.04</td>\n",
       "      <td>0.05</td>\n",
       "    </tr>\n",
       "    <tr>\n",
       "      <th>HS</th>\n",
       "      <td>0.06</td>\n",
       "      <td>0.70</td>\n",
       "      <td>0.03</td>\n",
       "      <td>0.05</td>\n",
       "      <td>0.08</td>\n",
       "      <td>0.34</td>\n",
       "      <td>0.04</td>\n",
       "      <td>0.03</td>\n",
       "      <td>0.09</td>\n",
       "      <td>0.53</td>\n",
       "    </tr>\n",
       "    <tr>\n",
       "      <th>H7</th>\n",
       "      <td>0.69</td>\n",
       "      <td>0.03</td>\n",
       "      <td>0.03</td>\n",
       "      <td>0.02</td>\n",
       "      <td>0.05</td>\n",
       "      <td>0.09</td>\n",
       "      <td>0.06</td>\n",
       "      <td>0.30</td>\n",
       "      <td>0.01</td>\n",
       "      <td>0.05</td>\n",
       "    </tr>\n",
       "    <tr>\n",
       "      <th>O104</th>\n",
       "      <td>0.06</td>\n",
       "      <td>0.04</td>\n",
       "      <td>0.51</td>\n",
       "      <td>0.00</td>\n",
       "      <td>0.05</td>\n",
       "      <td>0.00</td>\n",
       "      <td>0.01</td>\n",
       "      <td>0.03</td>\n",
       "      <td>0.86</td>\n",
       "      <td>0.37</td>\n",
       "    </tr>\n",
       "  </tbody>\n",
       "</table>\n",
       "</div>"
      ],
      "text/plain": [
       "        1     2     3     4     5     6     7     8     9     10\n",
       "0                                                               \n",
       "SE11  0.19  0.23  0.43  0.93  0.82  0.57  0.89  0.64  0.04  0.05\n",
       "HS    0.06  0.70  0.03  0.05  0.08  0.34  0.04  0.03  0.09  0.53\n",
       "H7    0.69  0.03  0.03  0.02  0.05  0.09  0.06  0.30  0.01  0.05\n",
       "O104  0.06  0.04  0.51  0.00  0.05  0.00  0.01  0.03  0.86  0.37"
      ]
     },
     "execution_count": 10,
     "metadata": {},
     "output_type": "execute_result"
    }
   ],
   "source": [
    "ref_profile = pd.read_csv(\"refs/profile.csv\", header=None, index_col=0)\n",
    "for i in range(1, 11):\n",
    "    ref_profile[i] = ref_profile[i] / ref_profile[i].sum()\n",
    "ref_profile"
   ]
  },
  {
   "cell_type": "code",
   "execution_count": 11,
   "metadata": {},
   "outputs": [
    {
     "data": {
      "text/html": [
       "<div>\n",
       "<style>\n",
       "    .dataframe thead tr:only-child th {\n",
       "        text-align: right;\n",
       "    }\n",
       "\n",
       "    .dataframe thead th {\n",
       "        text-align: left;\n",
       "    }\n",
       "\n",
       "    .dataframe tbody tr th {\n",
       "        vertical-align: top;\n",
       "    }\n",
       "</style>\n",
       "<table border=\"1\" class=\"dataframe\">\n",
       "  <thead>\n",
       "    <tr style=\"text-align: right;\">\n",
       "      <th></th>\n",
       "      <th>1</th>\n",
       "      <th>2</th>\n",
       "      <th>3</th>\n",
       "      <th>4</th>\n",
       "      <th>5</th>\n",
       "      <th>6</th>\n",
       "      <th>7</th>\n",
       "      <th>8</th>\n",
       "      <th>9</th>\n",
       "      <th>10</th>\n",
       "    </tr>\n",
       "    <tr>\n",
       "      <th>0</th>\n",
       "      <th></th>\n",
       "      <th></th>\n",
       "      <th></th>\n",
       "      <th></th>\n",
       "      <th></th>\n",
       "      <th></th>\n",
       "      <th></th>\n",
       "      <th></th>\n",
       "      <th></th>\n",
       "      <th></th>\n",
       "    </tr>\n",
       "  </thead>\n",
       "  <tbody>\n",
       "    <tr>\n",
       "      <th>0</th>\n",
       "      <td>0.695</td>\n",
       "      <td>0.035</td>\n",
       "      <td>0.031</td>\n",
       "      <td>0.001</td>\n",
       "      <td>0.031</td>\n",
       "      <td>0.092</td>\n",
       "      <td>0.062</td>\n",
       "      <td>0.303</td>\n",
       "      <td>0.001</td>\n",
       "      <td>0.031</td>\n",
       "    </tr>\n",
       "    <tr>\n",
       "      <th>1</th>\n",
       "      <td>0.056</td>\n",
       "      <td>0.715</td>\n",
       "      <td>0.030</td>\n",
       "      <td>0.033</td>\n",
       "      <td>0.067</td>\n",
       "      <td>0.332</td>\n",
       "      <td>0.033</td>\n",
       "      <td>0.031</td>\n",
       "      <td>0.091</td>\n",
       "      <td>0.539</td>\n",
       "    </tr>\n",
       "    <tr>\n",
       "      <th>2</th>\n",
       "      <td>0.187</td>\n",
       "      <td>0.215</td>\n",
       "      <td>0.437</td>\n",
       "      <td>0.964</td>\n",
       "      <td>0.867</td>\n",
       "      <td>0.574</td>\n",
       "      <td>0.904</td>\n",
       "      <td>0.635</td>\n",
       "      <td>0.035</td>\n",
       "      <td>0.033</td>\n",
       "    </tr>\n",
       "    <tr>\n",
       "      <th>3</th>\n",
       "      <td>0.062</td>\n",
       "      <td>0.035</td>\n",
       "      <td>0.501</td>\n",
       "      <td>0.001</td>\n",
       "      <td>0.034</td>\n",
       "      <td>0.002</td>\n",
       "      <td>0.001</td>\n",
       "      <td>0.031</td>\n",
       "      <td>0.873</td>\n",
       "      <td>0.396</td>\n",
       "    </tr>\n",
       "  </tbody>\n",
       "</table>\n",
       "</div>"
      ],
      "text/plain": [
       "      1      2      3      4      5      6      7      8      9      10\n",
       "0                                                                      \n",
       "0  0.695  0.035  0.031  0.001  0.031  0.092  0.062  0.303  0.001  0.031\n",
       "1  0.056  0.715  0.030  0.033  0.067  0.332  0.033  0.031  0.091  0.539\n",
       "2  0.187  0.215  0.437  0.964  0.867  0.574  0.904  0.635  0.035  0.033\n",
       "3  0.062  0.035  0.501  0.001  0.034  0.002  0.001  0.031  0.873  0.396"
      ]
     },
     "execution_count": 11,
     "metadata": {},
     "output_type": "execute_result"
    }
   ],
   "source": [
    "desman_profile = pd.read_csv(\"desman_results/4_0/desman_freqs.csv\", header=None, index_col=0, dtype=float)\n",
    "desman_profile.index = desman_profile.index.astype(int)\n",
    "desman_profile"
   ]
  },
  {
   "cell_type": "markdown",
   "metadata": {},
   "source": [
    "Ищем соответствие между профилями:"
   ]
  },
  {
   "cell_type": "code",
   "execution_count": 12,
   "metadata": {},
   "outputs": [
    {
     "name": "stdout",
     "output_type": "stream",
     "text": [
      "Error: 0.007624\n"
     ]
    }
   ],
   "source": [
    "ref_freqs = ref_profile.as_matrix()\n",
    "ans_error = float(\"Inf\")\n",
    "ans_permut = None\n",
    "for cur_permut in permutations(desman_profile.index):\n",
    "    desman_freqs = desman_profile.loc[cur_permut, :].as_matrix()\n",
    "    #print(cur_error, cur_permut)\n",
    "    cur_error = ((ref_freqs - desman_freqs) ** 2).sum()\n",
    "    if cur_error < ans_error:\n",
    "        ans_error = cur_error\n",
    "        ans_permut = cur_permut\n",
    "print(\"Error:\", ans_error)"
   ]
  },
  {
   "cell_type": "code",
   "execution_count": 13,
   "metadata": {
    "collapsed": true
   },
   "outputs": [],
   "source": [
    "def invert_permutation(permutation):\n",
    "    return [i for i, j in sorted(enumerate(permutation), key=lambda x: x[1])]"
   ]
  },
  {
   "cell_type": "code",
   "execution_count": 14,
   "metadata": {},
   "outputs": [
    {
     "data": {
      "text/plain": [
       "['H7', 'HS', 'SE11', 'O104']"
      ]
     },
     "execution_count": 14,
     "metadata": {},
     "output_type": "execute_result"
    }
   ],
   "source": [
    "strains = list(ref_profile.iloc[invert_permutation(ans_permut), :].index.astype(str))\n",
    "strains"
   ]
  },
  {
   "cell_type": "markdown",
   "metadata": {},
   "source": [
    "# Табличка ответов DESMAN"
   ]
  },
  {
   "cell_type": "code",
   "execution_count": 15,
   "metadata": {
    "scrolled": true
   },
   "outputs": [
    {
     "data": {
      "text/html": [
       "<div>\n",
       "<style>\n",
       "    .dataframe thead tr:only-child th {\n",
       "        text-align: right;\n",
       "    }\n",
       "\n",
       "    .dataframe thead th {\n",
       "        text-align: left;\n",
       "    }\n",
       "\n",
       "    .dataframe tbody tr th {\n",
       "        vertical-align: top;\n",
       "    }\n",
       "</style>\n",
       "<table border=\"1\" class=\"dataframe\">\n",
       "  <thead>\n",
       "    <tr style=\"text-align: right;\">\n",
       "      <th></th>\n",
       "      <th>H7</th>\n",
       "      <th>HS</th>\n",
       "      <th>SE11</th>\n",
       "      <th>O104</th>\n",
       "    </tr>\n",
       "    <tr>\n",
       "      <th>e_id</th>\n",
       "      <th></th>\n",
       "      <th></th>\n",
       "      <th></th>\n",
       "      <th></th>\n",
       "    </tr>\n",
       "  </thead>\n",
       "  <tbody>\n",
       "    <tr>\n",
       "      <th>4571136</th>\n",
       "      <td>1</td>\n",
       "      <td>1</td>\n",
       "      <td>1</td>\n",
       "      <td>1</td>\n",
       "    </tr>\n",
       "    <tr>\n",
       "      <th>4554754</th>\n",
       "      <td>0</td>\n",
       "      <td>1</td>\n",
       "      <td>1</td>\n",
       "      <td>1</td>\n",
       "    </tr>\n",
       "    <tr>\n",
       "      <th>4177934</th>\n",
       "      <td>1</td>\n",
       "      <td>0</td>\n",
       "      <td>0</td>\n",
       "      <td>0</td>\n",
       "    </tr>\n",
       "    <tr>\n",
       "      <th>3997720</th>\n",
       "      <td>1</td>\n",
       "      <td>0</td>\n",
       "      <td>0</td>\n",
       "      <td>0</td>\n",
       "    </tr>\n",
       "    <tr>\n",
       "      <th>4177948</th>\n",
       "      <td>0</td>\n",
       "      <td>1</td>\n",
       "      <td>0</td>\n",
       "      <td>0</td>\n",
       "    </tr>\n",
       "  </tbody>\n",
       "</table>\n",
       "</div>"
      ],
      "text/plain": [
       "         H7  HS  SE11  O104\n",
       "e_id                       \n",
       "4571136   1   1     1     1\n",
       "4554754   0   1     1     1\n",
       "4177934   1   0     0     0\n",
       "3997720   1   0     0     0\n",
       "4177948   0   1     0     0"
      ]
     },
     "execution_count": 15,
     "metadata": {},
     "output_type": "execute_result"
    }
   ],
   "source": [
    "df_desman = pd.read_csv(\"desman_results/4_0/gene_assignment_etaS_df.csv\", skiprows=1,\n",
    "                  names=[\"e_id\"] + strains)\n",
    "df_desman['e_id'] = df_desman['e_id'].str[1:].astype(\"int\")\n",
    "df_desman = df_desman.set_index('e_id')\n",
    "df_desman[strains] = df_desman[strains].astype('int')\n",
    "\n",
    "#df_desman = df_desman.join(df_length, how='inner')\n",
    "\n",
    "df_desman = df_desman.loc[set(df_ref.index) - set(nobody_edges)]\n",
    "df_desman.head()"
   ]
  },
  {
   "cell_type": "code",
   "execution_count": 16,
   "metadata": {},
   "outputs": [
    {
     "data": {
      "text/html": [
       "<div>\n",
       "<style>\n",
       "    .dataframe thead tr:only-child th {\n",
       "        text-align: right;\n",
       "    }\n",
       "\n",
       "    .dataframe thead th {\n",
       "        text-align: left;\n",
       "    }\n",
       "\n",
       "    .dataframe tbody tr th {\n",
       "        vertical-align: top;\n",
       "    }\n",
       "</style>\n",
       "<table border=\"1\" class=\"dataframe\">\n",
       "  <thead>\n",
       "    <tr style=\"text-align: right;\">\n",
       "      <th></th>\n",
       "      <th>strains</th>\n",
       "      <th>single_copy</th>\n",
       "      <th>length</th>\n",
       "      <th>H7</th>\n",
       "      <th>HS</th>\n",
       "      <th>SE11</th>\n",
       "      <th>O104</th>\n",
       "    </tr>\n",
       "  </thead>\n",
       "  <tbody>\n",
       "    <tr>\n",
       "      <th>4571136</th>\n",
       "      <td>{'SE11': 1, 'HS': 1, 'H7': 1, 'O104': 1}</td>\n",
       "      <td>True</td>\n",
       "      <td>7587</td>\n",
       "      <td>1</td>\n",
       "      <td>1</td>\n",
       "      <td>1</td>\n",
       "      <td>1</td>\n",
       "    </tr>\n",
       "    <tr>\n",
       "      <th>4554754</th>\n",
       "      <td>{'SE11': 1, 'HS': 1, 'O104': 1}</td>\n",
       "      <td>True</td>\n",
       "      <td>1230</td>\n",
       "      <td>0</td>\n",
       "      <td>1</td>\n",
       "      <td>1</td>\n",
       "      <td>1</td>\n",
       "    </tr>\n",
       "    <tr>\n",
       "      <th>4177934</th>\n",
       "      <td>{'H7': 1}</td>\n",
       "      <td>True</td>\n",
       "      <td>421</td>\n",
       "      <td>1</td>\n",
       "      <td>0</td>\n",
       "      <td>0</td>\n",
       "      <td>0</td>\n",
       "    </tr>\n",
       "    <tr>\n",
       "      <th>3997720</th>\n",
       "      <td>{'H7': 1}</td>\n",
       "      <td>True</td>\n",
       "      <td>436</td>\n",
       "      <td>1</td>\n",
       "      <td>0</td>\n",
       "      <td>0</td>\n",
       "      <td>0</td>\n",
       "    </tr>\n",
       "    <tr>\n",
       "      <th>4177948</th>\n",
       "      <td>{'HS': 1}</td>\n",
       "      <td>True</td>\n",
       "      <td>516</td>\n",
       "      <td>0</td>\n",
       "      <td>1</td>\n",
       "      <td>0</td>\n",
       "      <td>0</td>\n",
       "    </tr>\n",
       "  </tbody>\n",
       "</table>\n",
       "</div>"
      ],
      "text/plain": [
       "                                          strains  single_copy  length  H7  \\\n",
       "4571136  {'SE11': 1, 'HS': 1, 'H7': 1, 'O104': 1}         True    7587   1   \n",
       "4554754           {'SE11': 1, 'HS': 1, 'O104': 1}         True    1230   0   \n",
       "4177934                                 {'H7': 1}         True     421   1   \n",
       "3997720                                 {'H7': 1}         True     436   1   \n",
       "4177948                                 {'HS': 1}         True     516   0   \n",
       "\n",
       "         HS  SE11  O104  \n",
       "4571136   1     1     1  \n",
       "4554754   1     1     1  \n",
       "4177934   0     0     0  \n",
       "3997720   0     0     0  \n",
       "4177948   1     0     0  "
      ]
     },
     "execution_count": 16,
     "metadata": {},
     "output_type": "execute_result"
    }
   ],
   "source": [
    "for cur_s in strains:\n",
    "    df_ref[cur_s] = df_ref['strains'].apply(lambda x: int(cur_s in x))\n",
    "    \n",
    "df_ref.head()"
   ]
  },
  {
   "cell_type": "markdown",
   "metadata": {},
   "source": [
    "# Точность DESMAN"
   ]
  },
  {
   "cell_type": "code",
   "execution_count": 17,
   "metadata": {
    "collapsed": true
   },
   "outputs": [],
   "source": [
    "df_ref.sort_index(inplace=True)\n",
    "df_desman.sort_index(inplace=True)"
   ]
  },
  {
   "cell_type": "code",
   "execution_count": 18,
   "metadata": {},
   "outputs": [
    {
     "name": "stdout",
     "output_type": "stream",
     "text": [
      "Accuracy on all edges: 0.89\n"
     ]
    }
   ],
   "source": [
    "right_answers = (df_ref[strains] == df_desman[strains]).sum(axis=1) == len(strains)\n",
    "print(\"Accuracy on all edges: %.2f\" % (right_answers.sum() / len(df_ref)))"
   ]
  },
  {
   "cell_type": "code",
   "execution_count": 19,
   "metadata": {},
   "outputs": [
    {
     "name": "stdout",
     "output_type": "stream",
     "text": [
      "Percent of long edges: 0.60\n",
      "Accuracy on long edges: 0.94\n"
     ]
    }
   ],
   "source": [
    "long_edges = df_ref['length'] > 500\n",
    "print(\"Percent of long edges: %.2f\" % (long_edges.sum() / len(df_ref)))\n",
    "print(\"Accuracy on long edges: %.2f\" % ((right_answers & long_edges).sum() / long_edges.sum()))"
   ]
  },
  {
   "cell_type": "markdown",
   "metadata": {},
   "source": [
    "# Раскрашиваем граф для конкретного штамма"
   ]
  },
  {
   "cell_type": "code",
   "execution_count": 20,
   "metadata": {},
   "outputs": [
    {
     "name": "stdout",
     "output_type": "stream",
     "text": [
      "\n",
      "\n",
      " _________________________ H7 \n",
      "\n",
      "components in reference subgraph: 11\n",
      "components in   DESMAN  subgraph: 87\n",
      "\n",
      "long FN\n",
      "4165848,4290510,4292958,4293044,4293292,4293724,4349592,4377090,4402772,4408410,4437740,4472206,4482858,4501256,4517984,4531232,4532488,4542978,4544570,4548504,4555250,4556342,4556628,4559216,4559712,4561686,4562796,4563126,4563656,4570420,4570746,4573688,4573856,4576560,4576816,4576902,4577406,4577464,4577730,4578218,4578376,4578470,4579176,4579420,4580740,4582838,4582864,4583478,4583722,4583788,4583818,4583958,4583988,4583990,4584084,4584130,4584136,4584154,4584202,4584216,4584218,4584254,4585394,4586124,4586212,4586392,4586590,4586668,4586712,4586750,4586764,4587000\n",
      "\n",
      "long FP\n",
      "4291784,4429784,4562000,4569642,4573706,4575648,4575704,4577470,4577618,4577940,4579930,4580136,4581922,4587874\n",
      "\n",
      "\n",
      " _________________________ HS \n",
      "\n",
      "components in reference subgraph: 1\n",
      "components in   DESMAN  subgraph: 43\n",
      "\n",
      "long FN\n",
      "4487582,4586260,4586296,4586318,4586494,4586606,4586610,4586636,4586918\n",
      "\n",
      "long FP\n",
      "4512336,4527826,4555494,4558422,4575704,4577940,4578618,4580032,4580134,4580136,4580790,4583950,4584330,4585940,4585960,4588270,4588272\n",
      "\n",
      "\n",
      " _________________________ SE11 \n",
      "\n",
      "components in reference subgraph: 1\n",
      "components in   DESMAN  subgraph: 13\n",
      "\n",
      "long FN\n",
      "\n",
      "\n",
      "long FP\n",
      "4300134,4429784,4554102,4583950,4585594,4586104,4586218\n",
      "\n",
      "\n",
      " _________________________ O104 \n",
      "\n",
      "components in reference subgraph: 4\n",
      "components in   DESMAN  subgraph: 8\n",
      "\n",
      "long FN\n",
      "4562332,4584212,4586240,4586406,4586510,4586594,4586692,4586730,4586740,4586898,4586900\n",
      "\n",
      "long FP\n",
      "4429784\n"
     ]
    }
   ],
   "source": [
    "if not os.path.exists(\"bandage_colors\"):\n",
    "    os.makedirs(\"bandage_colors\")\n",
    "\n",
    "\n",
    "for cur_s in strains:\n",
    "    print('\\n\\n', \"_________________________\", cur_s, '\\n')\n",
    "    \n",
    "    selected_nodes = df_ref[df_ref[cur_s] == 1].index\n",
    "    G_sub = G.subgraph(selected_nodes)\n",
    "    print(\"components in reference subgraph:\", nx.number_weakly_connected_components(G_sub))\n",
    "\n",
    "    selected_nodes = df_desman[df_desman[cur_s] == 1].index\n",
    "    G_sub = G.subgraph(selected_nodes)\n",
    "    print(\"components in   DESMAN  subgraph:\", nx.number_weakly_connected_components(G_sub))\n",
    "\n",
    "    df_ref['color'] = \"#b0b0b0\"  # grey\n",
    "\n",
    "\n",
    "    long = df_ref['length'] >= 500\n",
    "    single = df_ref['single_copy']\n",
    "    real_true = df_ref[cur_s] == 1\n",
    "    desman_true = df_desman[cur_s] == 1\n",
    "\n",
    "    df_ref.loc[~long & real_true, 'color'] = 'Brown'\n",
    "\n",
    "    df_ref.loc[long & single  &  real_true  &  desman_true, 'color'] = 'Lime'\n",
    "    df_ref.loc[long & ~single  &  real_true  &  desman_true, 'color'] = 'Green'\n",
    "\n",
    "    df_ref.loc[long &  single  &  real_true  & ~desman_true, 'color'] = 'Teal'\n",
    "    df_ref.loc[long & ~single  &  real_true  & ~desman_true, 'color'] = 'Navy'\n",
    "\n",
    "    df_ref.loc[long &  single  & ~real_true  &  desman_true, 'color'] = 'Yellow'\n",
    "    df_ref.loc[long & ~single  & ~real_true  &  desman_true, 'color'] = 'Orange'\n",
    "\n",
    "\n",
    "    df_ref['strains_print'] = df_ref['strains'].apply(lambda x: \", \".join('{}({})'.format(k, v) for k, v in x.items()))\n",
    "    df_ref['strains_print'] = df_ref['strains_print'].apply(lambda x: x.replace('(1)', ''))\n",
    "\n",
    "    df_ref[['strains_print', 'color']].to_csv(\"bandage_colors/{}.csv\".format(cur_s), index_label='name')\n",
    "    \n",
    "    print(\"\\nlong FN\")\n",
    "    print_edges(df_ref[long & real_true & ~desman_true].index)\n",
    "    \n",
    "    print(\"\\nlong FP\")\n",
    "    print_edges(df_ref[long & ~real_true & desman_true].index)"
   ]
  }
 ],
 "metadata": {
  "kernelspec": {
   "display_name": "Python 3",
   "language": "python",
   "name": "python3"
  },
  "language_info": {
   "codemirror_mode": {
    "name": "ipython",
    "version": 3
   },
   "file_extension": ".py",
   "mimetype": "text/x-python",
   "name": "python",
   "nbconvert_exporter": "python",
   "pygments_lexer": "ipython3",
   "version": "3.6.1"
  }
 },
 "nbformat": 4,
 "nbformat_minor": 2
}
