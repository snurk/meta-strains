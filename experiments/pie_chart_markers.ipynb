{
 "cells": [
  {
   "cell_type": "code",
   "execution_count": null,
   "metadata": {
    "collapsed": true
   },
   "outputs": [],
   "source": [
    "import math\n",
    "import numpy as np\n",
    "import matplotlib.pyplot as plt"
   ]
  },
  {
   "cell_type": "code",
   "execution_count": 19,
   "metadata": {},
   "outputs": [
    {
     "data": {
      "image/png": "[encoded data removed]",
      "text/plain": [
       "<matplotlib.figure.Figure at 0x7f27ab45a6d8>"
      ]
     },
     "metadata": {},
     "output_type": "display_data"
    }
   ],
   "source": [
    "# first define the ratios\n",
    "r1 = 0.21       \n",
    "r2 = r1 + 0.79  \n",
    "\n",
    "sizes = [5000, 5000, 5000]\n",
    "\n",
    "x = [0] + np.cos(np.linspace(0, 2*math.pi*r1, 100)).tolist()\n",
    "y = [0] + np.sin(np.linspace(0, 2*math.pi*r1, 100)).tolist()\n",
    "xy1 = list(zip(x, y))\n",
    "s1 = max(max(x), max(y))\n",
    "\n",
    "x = [0] + np.cos(np.linspace(2*math.pi*r1, 2*math.pi*r2, 100)).tolist()\n",
    "y = [0] + np.sin(np.linspace(2*math.pi*r1, 2*math.pi*r2, 100)).tolist()\n",
    "xy2 = list(zip(x, y))\n",
    "s2 = max(max(x), max(y))\n",
    "\n",
    "plt.scatter(np.arange(3), np.arange(3), marker=(xy1, 0),\n",
    "           s=[s1*s1*_ for _ in sizes], facecolor='blue')\n",
    "plt.scatter(np.arange(3), np.arange(3), marker=(xy2, 0),\n",
    "           s=[s2*s2*_ for _ in sizes], facecolor='red')\n",
    "\n",
    "plt.show()"
   ]
  },
  {
   "cell_type": "code",
   "execution_count": null,
   "metadata": {
    "collapsed": true
   },
   "outputs": [],
   "source": []
  },
  {
   "cell_type": "code",
   "execution_count": null,
   "metadata": {
    "collapsed": true
   },
   "outputs": [],
   "source": []
  }
 ],
 "metadata": {
  "kernelspec": {
   "display_name": "Python 3",
   "language": "python",
   "name": "python3"
  },
  "language_info": {
   "codemirror_mode": {
    "name": "ipython",
    "version": 3
   },
   "file_extension": ".py",
   "mimetype": "text/x-python",
   "name": "python",
   "nbconvert_exporter": "python",
   "pygments_lexer": "ipython3",
   "version": "3.6.1"
  }
 },
 "nbformat": 4,
 "nbformat_minor": 2
}
